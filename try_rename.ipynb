{
  "nbformat": 4,
  "nbformat_minor": 0,
  "metadata": {
    "colab": {
      "name": "try rename.ipynb",
      "provenance": [],
      "authorship_tag": "ABX9TyMujU43VXHVy4kjvF58nx3O",
      "include_colab_link": true
    },
    "kernelspec": {
      "name": "python3",
      "display_name": "Python 3"
    },
    "language_info": {
      "name": "python"
    }
  },
  "cells": [
    {
      "cell_type": "markdown",
      "metadata": {
        "id": "view-in-github",
        "colab_type": "text"
      },
      "source": [
        "<a href=\"https://colab.research.google.com/github/teeranutp/upload-1/blob/main/try_rename.ipynb\" target=\"_parent\"><img src=\"https://colab.research.google.com/assets/colab-badge.svg\" alt=\"Open In Colab\"/></a>"
      ]
    },
    {
      "cell_type": "code",
      "metadata": {
        "colab": {
          "base_uri": "https://localhost:8080/"
        },
        "id": "qGveB9zx-wXp",
        "outputId": "14063545-ed9f-4e30-afbf-850853c6538a"
      },
      "source": [
        "print(\"Hello Python\")"
      ],
      "execution_count": 1,
      "outputs": [
        {
          "output_type": "stream",
          "text": [
            "Hello Python\n"
          ],
          "name": "stdout"
        }
      ]
    }
  ]
}